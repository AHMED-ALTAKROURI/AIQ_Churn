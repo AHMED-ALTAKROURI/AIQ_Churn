{
 "cells": [
  {
   "cell_type": "code",
   "execution_count": 1,
   "metadata": {
    "collapsed": true
   },
   "outputs": [],
   "source": [
    "import statistics\n",
    "import numpy as np\n",
    "import pandas as pd"
   ]
  },
  {
   "cell_type": "code",
   "execution_count": 2,
   "outputs": [
    {
     "data": {
      "text/plain": "Index(['gender', 'SeniorCitizen', 'Partner', 'Dependents', 'tenure',\n       'PhoneService', 'MultipleLines', 'InternetService', 'OnlineSecurity',\n       'OnlineBackup', 'DeviceProtection', 'TechSupport', 'StreamingTV',\n       'StreamingMovies', 'Contract', 'PaperlessBilling', 'PaymentMethod',\n       'MonthlyCharges', 'TotalCharges', 'Churn'],\n      dtype='object')"
     },
     "execution_count": 2,
     "metadata": {},
     "output_type": "execute_result"
    }
   ],
   "source": [
    "\n",
    "training_set = pd.read_csv(\"train.csv\")\n",
    "testing_set = pd.read_csv('test.csv')\n",
    "columns = training_set.columns\n",
    "columns\n"
   ],
   "metadata": {
    "collapsed": false,
    "pycharm": {
     "name": "#%%\n"
    }
   }
  },
  {
   "cell_type": "code",
   "execution_count": 3,
   "outputs": [
    {
     "data": {
      "text/plain": "gender                0\nSeniorCitizen         0\nPartner               0\nDependents            0\ntenure                0\nPhoneService          0\nMultipleLines         0\nInternetService       0\nOnlineSecurity        0\nOnlineBackup          0\nDeviceProtection      0\nTechSupport           0\nStreamingTV           0\nStreamingMovies       0\nContract              0\nPaperlessBilling      0\nPaymentMethod         0\nMonthlyCharges      299\nTotalCharges          0\ndtype: int64"
     },
     "execution_count": 3,
     "metadata": {},
     "output_type": "execute_result"
    }
   ],
   "source": [
    "testing_set.isnull().sum()\n"
   ],
   "metadata": {
    "collapsed": false,
    "pycharm": {
     "name": "#%%\n"
    }
   }
  },
  {
   "cell_type": "code",
   "execution_count": 4,
   "outputs": [],
   "source": [
    "# preprocess missing values and label encoding..\n",
    "\n",
    "# replace string labels with integers.\n",
    "training_set['Churn'] = training_set['Churn'].replace({'Yes': 1, 'No': 0})\n",
    "#"
   ],
   "metadata": {
    "collapsed": false,
    "pycharm": {
     "name": "#%%\n"
    }
   }
  },
  {
   "cell_type": "code",
   "execution_count": 5,
   "outputs": [],
   "source": [
    "# # to numerical float64\n",
    "training_set[\"tenure\"] = training_set[\"tenure\"].astype(np.float64)\n",
    "testing_set[\"tenure\"] = testing_set[\"tenure\"].astype(np.float64)\n",
    "#"
   ],
   "metadata": {
    "collapsed": false,
    "pycharm": {
     "name": "#%%\n"
    }
   }
  },
  {
   "cell_type": "code",
   "execution_count": 6,
   "outputs": [],
   "source": [
    "# # replace missing values by the mean of the column, there might more advanced method but we are running out of time.\n",
    "training_set[\"MonthlyCharges\"] = training_set[\"MonthlyCharges\"].fillna(round(training_set[\"MonthlyCharges\"].mean(),2))\n",
    "testing_set[\"MonthlyCharges\"] = testing_set[\"MonthlyCharges\"].fillna(round(testing_set[\"MonthlyCharges\"].mean(),2))"
   ],
   "metadata": {
    "collapsed": false,
    "pycharm": {
     "name": "#%%\n"
    }
   }
  },
  {
   "cell_type": "code",
   "execution_count": 7,
   "outputs": [],
   "source": [
    "# finding what is the problem with this column, unable to change it automatiaclly to float, it turned out there are empty\n",
    "# string instead of floats\n",
    "total_charges = training_set[\"TotalCharges\"].tolist()\n",
    "values = []\n",
    "for tc in total_charges:\n",
    "    if tc is not \" \":\n",
    "      values.append(float(tc))\n",
    "\n",
    "# replace empty string with floats as the mean of the column:\n",
    "training_set[\"TotalCharges\"] = training_set[\"TotalCharges\"].replace({' ': round(statistics.mean(values),2)})\n",
    "training_set[\"TotalCharges\"] = training_set[\"TotalCharges\"].astype(np.float64)\n",
    "#\n",
    "#\n",
    "total_charges_test = testing_set[\"TotalCharges\"].tolist()\n",
    "testing_values = []\n",
    "for tc in total_charges_test:\n",
    "    if tc is not \" \":\n",
    "      testing_values.append(float(tc))\n",
    "\n",
    "\n",
    "testing_set[\"TotalCharges\"] = testing_set[\"TotalCharges\"].replace({\" \": round(statistics.mean(testing_values),2)})\n",
    "testing_set[\"TotalCharges\"] = testing_set[\"TotalCharges\"].astype(np.float64)\n"
   ],
   "metadata": {
    "collapsed": false,
    "pycharm": {
     "name": "#%%\n"
    }
   }
  },
  {
   "cell_type": "code",
   "execution_count": 8,
   "outputs": [],
   "source": [
    "columns = training_set.columns\n",
    "\n",
    "num_columns = training_set._get_numeric_data().columns\n",
    "\n",
    "categorical_columns = list(set(columns) - set(num_columns))\n",
    "\n",
    "\n",
    "# # use get dummies to encode categorical features, there might another approach but this is the simplest,\n",
    "# # and according to my experience, different encoding strategies does influence the final model in binary classification\n",
    "# # scenarios.\n",
    "encoded_data = pd.get_dummies(training_set, columns=categorical_columns)\n",
    "\n"
   ],
   "metadata": {
    "collapsed": false,
    "pycharm": {
     "name": "#%%\n"
    }
   }
  },
  {
   "cell_type": "code",
   "execution_count": 9,
   "outputs": [],
   "source": [
    "columns = testing_set.columns\n",
    "num_columns = testing_set._get_numeric_data().columns\n",
    "categorical_columns = list(set(columns) - set(num_columns))\n",
    "\n",
    "encoded_test_data = pd.get_dummies(testing_set,  columns=categorical_columns)\n"
   ],
   "metadata": {
    "collapsed": false,
    "pycharm": {
     "name": "#%%\n"
    }
   }
  },
  {
   "cell_type": "code",
   "execution_count": 10,
   "outputs": [
    {
     "data": {
      "text/plain": "       SeniorCitizen       tenure  MonthlyCharges  TotalCharges  \\\ncount    2831.000000  2831.000000     2831.000000   2831.000000   \nmean        0.158954    32.980219       64.458244   2309.111243   \nstd         0.365698    24.785931       28.516302   2280.649254   \nmin         0.000000     0.000000       18.800000     18.850000   \n25%         0.000000     9.000000       44.325000    402.275000   \n50%         0.000000    30.000000       64.460000   1411.900000   \n75%         0.000000    56.000000       87.775000   3886.250000   \nmax         1.000000    72.000000      118.600000   8684.800000   \n\n       Dependents_No  Dependents_Yes  StreamingTV_No  \\\ncount    2831.000000     2831.000000     2831.000000   \nmean        0.714235        0.285765        0.400565   \nstd         0.451858        0.451858        0.490100   \nmin         0.000000        0.000000        0.000000   \n25%         0.000000        0.000000        0.000000   \n50%         1.000000        0.000000        0.000000   \n75%         1.000000        1.000000        1.000000   \nmax         1.000000        1.000000        1.000000   \n\n       StreamingTV_No internet service  StreamingTV_Yes  OnlineSecurity_No  \\\ncount                      2831.000000      2831.000000        2831.000000   \nmean                          0.218651         0.380784           0.492052   \nstd                           0.413404         0.485665           0.500025   \nmin                           0.000000         0.000000           0.000000   \n25%                           0.000000         0.000000           0.000000   \n50%                           0.000000         0.000000           0.000000   \n75%                           0.000000         1.000000           1.000000   \nmax                           1.000000         1.000000           1.000000   \n\n       ...  PaymentMethod_Bank transfer (automatic)  \\\ncount  ...                              2831.000000   \nmean   ...                                 0.230661   \nstd    ...                                 0.421330   \nmin    ...                                 0.000000   \n25%    ...                                 0.000000   \n50%    ...                                 0.000000   \n75%    ...                                 0.000000   \nmax    ...                                 1.000000   \n\n       PaymentMethod_Credit card (automatic)  PaymentMethod_Electronic check  \\\ncount                            2831.000000                     2831.000000   \nmean                                0.210173                        0.329566   \nstd                                 0.407503                        0.470138   \nmin                                 0.000000                        0.000000   \n25%                                 0.000000                        0.000000   \n50%                                 0.000000                        0.000000   \n75%                                 0.000000                        1.000000   \nmax                                 1.000000                        1.000000   \n\n       PaymentMethod_Mailed check  DeviceProtection_No  \\\ncount                 2831.000000          2831.000000   \nmean                     0.229601             0.429177   \nstd                      0.420650             0.495046   \nmin                      0.000000             0.000000   \n25%                      0.000000             0.000000   \n50%                      0.000000             0.000000   \n75%                      0.000000             1.000000   \nmax                      1.000000             1.000000   \n\n       DeviceProtection_No internet service  DeviceProtection_Yes  \\\ncount                           2831.000000           2831.000000   \nmean                               0.218651              0.352172   \nstd                                0.413404              0.477732   \nmin                                0.000000              0.000000   \n25%                                0.000000              0.000000   \n50%                                0.000000              0.000000   \n75%                                0.000000              1.000000   \nmax                                1.000000              1.000000   \n\n       StreamingMovies_No  StreamingMovies_No internet service  \\\ncount         2831.000000                          2831.000000   \nmean             0.392794                             0.218651   \nstd              0.488458                             0.413404   \nmin              0.000000                             0.000000   \n25%              0.000000                             0.000000   \n50%              0.000000                             0.000000   \n75%              1.000000                             0.000000   \nmax              1.000000                             1.000000   \n\n       StreamingMovies_Yes  \ncount          2831.000000  \nmean              0.388555  \nstd               0.487508  \nmin               0.000000  \n25%               0.000000  \n50%               0.000000  \n75%               1.000000  \nmax               1.000000  \n\n[8 rows x 45 columns]",
      "text/html": "<div>\n<style scoped>\n    .dataframe tbody tr th:only-of-type {\n        vertical-align: middle;\n    }\n\n    .dataframe tbody tr th {\n        vertical-align: top;\n    }\n\n    .dataframe thead th {\n        text-align: right;\n    }\n</style>\n<table border=\"1\" class=\"dataframe\">\n  <thead>\n    <tr style=\"text-align: right;\">\n      <th></th>\n      <th>SeniorCitizen</th>\n      <th>tenure</th>\n      <th>MonthlyCharges</th>\n      <th>TotalCharges</th>\n      <th>Dependents_No</th>\n      <th>Dependents_Yes</th>\n      <th>StreamingTV_No</th>\n      <th>StreamingTV_No internet service</th>\n      <th>StreamingTV_Yes</th>\n      <th>OnlineSecurity_No</th>\n      <th>...</th>\n      <th>PaymentMethod_Bank transfer (automatic)</th>\n      <th>PaymentMethod_Credit card (automatic)</th>\n      <th>PaymentMethod_Electronic check</th>\n      <th>PaymentMethod_Mailed check</th>\n      <th>DeviceProtection_No</th>\n      <th>DeviceProtection_No internet service</th>\n      <th>DeviceProtection_Yes</th>\n      <th>StreamingMovies_No</th>\n      <th>StreamingMovies_No internet service</th>\n      <th>StreamingMovies_Yes</th>\n    </tr>\n  </thead>\n  <tbody>\n    <tr>\n      <th>count</th>\n      <td>2831.000000</td>\n      <td>2831.000000</td>\n      <td>2831.000000</td>\n      <td>2831.000000</td>\n      <td>2831.000000</td>\n      <td>2831.000000</td>\n      <td>2831.000000</td>\n      <td>2831.000000</td>\n      <td>2831.000000</td>\n      <td>2831.000000</td>\n      <td>...</td>\n      <td>2831.000000</td>\n      <td>2831.000000</td>\n      <td>2831.000000</td>\n      <td>2831.000000</td>\n      <td>2831.000000</td>\n      <td>2831.000000</td>\n      <td>2831.000000</td>\n      <td>2831.000000</td>\n      <td>2831.000000</td>\n      <td>2831.000000</td>\n    </tr>\n    <tr>\n      <th>mean</th>\n      <td>0.158954</td>\n      <td>32.980219</td>\n      <td>64.458244</td>\n      <td>2309.111243</td>\n      <td>0.714235</td>\n      <td>0.285765</td>\n      <td>0.400565</td>\n      <td>0.218651</td>\n      <td>0.380784</td>\n      <td>0.492052</td>\n      <td>...</td>\n      <td>0.230661</td>\n      <td>0.210173</td>\n      <td>0.329566</td>\n      <td>0.229601</td>\n      <td>0.429177</td>\n      <td>0.218651</td>\n      <td>0.352172</td>\n      <td>0.392794</td>\n      <td>0.218651</td>\n      <td>0.388555</td>\n    </tr>\n    <tr>\n      <th>std</th>\n      <td>0.365698</td>\n      <td>24.785931</td>\n      <td>28.516302</td>\n      <td>2280.649254</td>\n      <td>0.451858</td>\n      <td>0.451858</td>\n      <td>0.490100</td>\n      <td>0.413404</td>\n      <td>0.485665</td>\n      <td>0.500025</td>\n      <td>...</td>\n      <td>0.421330</td>\n      <td>0.407503</td>\n      <td>0.470138</td>\n      <td>0.420650</td>\n      <td>0.495046</td>\n      <td>0.413404</td>\n      <td>0.477732</td>\n      <td>0.488458</td>\n      <td>0.413404</td>\n      <td>0.487508</td>\n    </tr>\n    <tr>\n      <th>min</th>\n      <td>0.000000</td>\n      <td>0.000000</td>\n      <td>18.800000</td>\n      <td>18.850000</td>\n      <td>0.000000</td>\n      <td>0.000000</td>\n      <td>0.000000</td>\n      <td>0.000000</td>\n      <td>0.000000</td>\n      <td>0.000000</td>\n      <td>...</td>\n      <td>0.000000</td>\n      <td>0.000000</td>\n      <td>0.000000</td>\n      <td>0.000000</td>\n      <td>0.000000</td>\n      <td>0.000000</td>\n      <td>0.000000</td>\n      <td>0.000000</td>\n      <td>0.000000</td>\n      <td>0.000000</td>\n    </tr>\n    <tr>\n      <th>25%</th>\n      <td>0.000000</td>\n      <td>9.000000</td>\n      <td>44.325000</td>\n      <td>402.275000</td>\n      <td>0.000000</td>\n      <td>0.000000</td>\n      <td>0.000000</td>\n      <td>0.000000</td>\n      <td>0.000000</td>\n      <td>0.000000</td>\n      <td>...</td>\n      <td>0.000000</td>\n      <td>0.000000</td>\n      <td>0.000000</td>\n      <td>0.000000</td>\n      <td>0.000000</td>\n      <td>0.000000</td>\n      <td>0.000000</td>\n      <td>0.000000</td>\n      <td>0.000000</td>\n      <td>0.000000</td>\n    </tr>\n    <tr>\n      <th>50%</th>\n      <td>0.000000</td>\n      <td>30.000000</td>\n      <td>64.460000</td>\n      <td>1411.900000</td>\n      <td>1.000000</td>\n      <td>0.000000</td>\n      <td>0.000000</td>\n      <td>0.000000</td>\n      <td>0.000000</td>\n      <td>0.000000</td>\n      <td>...</td>\n      <td>0.000000</td>\n      <td>0.000000</td>\n      <td>0.000000</td>\n      <td>0.000000</td>\n      <td>0.000000</td>\n      <td>0.000000</td>\n      <td>0.000000</td>\n      <td>0.000000</td>\n      <td>0.000000</td>\n      <td>0.000000</td>\n    </tr>\n    <tr>\n      <th>75%</th>\n      <td>0.000000</td>\n      <td>56.000000</td>\n      <td>87.775000</td>\n      <td>3886.250000</td>\n      <td>1.000000</td>\n      <td>1.000000</td>\n      <td>1.000000</td>\n      <td>0.000000</td>\n      <td>1.000000</td>\n      <td>1.000000</td>\n      <td>...</td>\n      <td>0.000000</td>\n      <td>0.000000</td>\n      <td>1.000000</td>\n      <td>0.000000</td>\n      <td>1.000000</td>\n      <td>0.000000</td>\n      <td>1.000000</td>\n      <td>1.000000</td>\n      <td>0.000000</td>\n      <td>1.000000</td>\n    </tr>\n    <tr>\n      <th>max</th>\n      <td>1.000000</td>\n      <td>72.000000</td>\n      <td>118.600000</td>\n      <td>8684.800000</td>\n      <td>1.000000</td>\n      <td>1.000000</td>\n      <td>1.000000</td>\n      <td>1.000000</td>\n      <td>1.000000</td>\n      <td>1.000000</td>\n      <td>...</td>\n      <td>1.000000</td>\n      <td>1.000000</td>\n      <td>1.000000</td>\n      <td>1.000000</td>\n      <td>1.000000</td>\n      <td>1.000000</td>\n      <td>1.000000</td>\n      <td>1.000000</td>\n      <td>1.000000</td>\n      <td>1.000000</td>\n    </tr>\n  </tbody>\n</table>\n<p>8 rows × 45 columns</p>\n</div>"
     },
     "execution_count": 10,
     "metadata": {},
     "output_type": "execute_result"
    }
   ],
   "source": [
    "encoded_test_data.describe()\n"
   ],
   "metadata": {
    "collapsed": false,
    "pycharm": {
     "name": "#%%\n"
    }
   }
  },
  {
   "cell_type": "code",
   "execution_count": 11,
   "outputs": [
    {
     "data": {
      "text/plain": "SeniorCitizen                              0\ntenure                                     0\nMonthlyCharges                             0\nTotalCharges                               0\nDependents_No                              0\nDependents_Yes                             0\nStreamingTV_No                             0\nStreamingTV_No internet service            0\nStreamingTV_Yes                            0\nOnlineSecurity_No                          0\nOnlineSecurity_No internet service         0\nOnlineSecurity_Yes                         0\nMultipleLines_No                           0\nMultipleLines_No phone service             0\nMultipleLines_Yes                          0\nOnlineBackup_No                            0\nOnlineBackup_No internet service           0\nOnlineBackup_Yes                           0\nPaperlessBilling_No                        0\nPaperlessBilling_Yes                       0\nPartner_No                                 0\nPartner_Yes                                0\nTechSupport_No                             0\nTechSupport_No internet service            0\nTechSupport_Yes                            0\nContract_Month-to-month                    0\nContract_One year                          0\nContract_Two year                          0\ngender_Female                              0\ngender_Male                                0\nPhoneService_No                            0\nPhoneService_Yes                           0\nInternetService_DSL                        0\nInternetService_Fiber optic                0\nInternetService_No                         0\nPaymentMethod_Bank transfer (automatic)    0\nPaymentMethod_Credit card (automatic)      0\nPaymentMethod_Electronic check             0\nPaymentMethod_Mailed check                 0\nDeviceProtection_No                        0\nDeviceProtection_No internet service       0\nDeviceProtection_Yes                       0\nStreamingMovies_No                         0\nStreamingMovies_No internet service        0\nStreamingMovies_Yes                        0\ndtype: int64"
     },
     "execution_count": 11,
     "metadata": {},
     "output_type": "execute_result"
    }
   ],
   "source": [
    "encoded_test_data.isnull().sum()"
   ],
   "metadata": {
    "collapsed": false,
    "pycharm": {
     "name": "#%%\n"
    }
   }
  },
  {
   "cell_type": "code",
   "execution_count": 12,
   "outputs": [
    {
     "data": {
      "text/plain": "      SeniorCitizen  tenure  MonthlyCharges  TotalCharges  Dependents_No  \\\n0                 0    72.0           97.75       6991.60              0   \n1                 0    57.0           74.60       4368.95              1   \n2                 1    46.0           69.10       3255.35              1   \n3                 0    38.0          101.15       3956.70              0   \n4                 1    32.0           85.95       2628.60              1   \n...             ...     ...             ...           ...            ...   \n2826              0    47.0          100.75       4669.20              1   \n2827              1    47.0           67.45       3252.00              1   \n2828              0    47.0           40.30       1794.80              0   \n2829              0    71.0           47.60       3377.80              1   \n2830              0    16.0           64.46       1024.00              0   \n\n      Dependents_Yes  StreamingTV_No  StreamingTV_No internet service  \\\n0                  1               1                                0   \n1                  0               0                                0   \n2                  0               1                                0   \n3                  1               0                                0   \n4                  0               0                                0   \n...              ...             ...                              ...   \n2826               0               0                                0   \n2827               0               1                                0   \n2828               1               1                                0   \n2829               0               1                                0   \n2830               1               0                                0   \n\n      StreamingTV_Yes  OnlineSecurity_No  ...  \\\n0                   0                  0  ...   \n1                   1                  1  ...   \n2                   0                  1  ...   \n3                   1                  1  ...   \n4                   1                  1  ...   \n...               ...                ...  ...   \n2826                1                  0  ...   \n2827                0                  0  ...   \n2828                0                  0  ...   \n2829                0                  0  ...   \n2830                1                  0  ...   \n\n      PaymentMethod_Bank transfer (automatic)  \\\n0                                           0   \n1                                           1   \n2                                           0   \n3                                           0   \n4                                           0   \n...                                       ...   \n2826                                        0   \n2827                                        0   \n2828                                        0   \n2829                                        1   \n2830                                        0   \n\n      PaymentMethod_Credit card (automatic)  PaymentMethod_Electronic check  \\\n0                                         1                               0   \n1                                         0                               0   \n2                                         1                               0   \n3                                         1                               0   \n4                                         1                               0   \n...                                     ...                             ...   \n2826                                      0                               0   \n2827                                      1                               0   \n2828                                      0                               1   \n2829                                      0                               0   \n2830                                      0                               0   \n\n      PaymentMethod_Mailed check  DeviceProtection_No  \\\n0                              0                    1   \n1                              0                    0   \n2                              0                    0   \n3                              0                    0   \n4                              0                    1   \n...                          ...                  ...   \n2826                           1                    1   \n2827                           0                    0   \n2828                           0                    0   \n2829                           0                    0   \n2830                           1                    0   \n\n      DeviceProtection_No internet service  DeviceProtection_Yes  \\\n0                                        0                     0   \n1                                        0                     1   \n2                                        0                     1   \n3                                        0                     1   \n4                                        0                     0   \n...                                    ...                   ...   \n2826                                     0                     0   \n2827                                     0                     1   \n2828                                     0                     1   \n2829                                     0                     1   \n2830                                     0                     1   \n\n      StreamingMovies_No  StreamingMovies_No internet service  \\\n0                      0                                    0   \n1                      1                                    0   \n2                      0                                    0   \n3                      0                                    0   \n4                      1                                    0   \n...                  ...                                  ...   \n2826                   1                                    0   \n2827                   1                                    0   \n2828                   1                                    0   \n2829                   1                                    0   \n2830                   1                                    0   \n\n      StreamingMovies_Yes  \n0                       1  \n1                       0  \n2                       1  \n3                       1  \n4                       0  \n...                   ...  \n2826                    0  \n2827                    0  \n2828                    0  \n2829                    0  \n2830                    0  \n\n[2831 rows x 45 columns]",
      "text/html": "<div>\n<style scoped>\n    .dataframe tbody tr th:only-of-type {\n        vertical-align: middle;\n    }\n\n    .dataframe tbody tr th {\n        vertical-align: top;\n    }\n\n    .dataframe thead th {\n        text-align: right;\n    }\n</style>\n<table border=\"1\" class=\"dataframe\">\n  <thead>\n    <tr style=\"text-align: right;\">\n      <th></th>\n      <th>SeniorCitizen</th>\n      <th>tenure</th>\n      <th>MonthlyCharges</th>\n      <th>TotalCharges</th>\n      <th>Dependents_No</th>\n      <th>Dependents_Yes</th>\n      <th>StreamingTV_No</th>\n      <th>StreamingTV_No internet service</th>\n      <th>StreamingTV_Yes</th>\n      <th>OnlineSecurity_No</th>\n      <th>...</th>\n      <th>PaymentMethod_Bank transfer (automatic)</th>\n      <th>PaymentMethod_Credit card (automatic)</th>\n      <th>PaymentMethod_Electronic check</th>\n      <th>PaymentMethod_Mailed check</th>\n      <th>DeviceProtection_No</th>\n      <th>DeviceProtection_No internet service</th>\n      <th>DeviceProtection_Yes</th>\n      <th>StreamingMovies_No</th>\n      <th>StreamingMovies_No internet service</th>\n      <th>StreamingMovies_Yes</th>\n    </tr>\n  </thead>\n  <tbody>\n    <tr>\n      <th>0</th>\n      <td>0</td>\n      <td>72.0</td>\n      <td>97.75</td>\n      <td>6991.60</td>\n      <td>0</td>\n      <td>1</td>\n      <td>1</td>\n      <td>0</td>\n      <td>0</td>\n      <td>0</td>\n      <td>...</td>\n      <td>0</td>\n      <td>1</td>\n      <td>0</td>\n      <td>0</td>\n      <td>1</td>\n      <td>0</td>\n      <td>0</td>\n      <td>0</td>\n      <td>0</td>\n      <td>1</td>\n    </tr>\n    <tr>\n      <th>1</th>\n      <td>0</td>\n      <td>57.0</td>\n      <td>74.60</td>\n      <td>4368.95</td>\n      <td>1</td>\n      <td>0</td>\n      <td>0</td>\n      <td>0</td>\n      <td>1</td>\n      <td>1</td>\n      <td>...</td>\n      <td>1</td>\n      <td>0</td>\n      <td>0</td>\n      <td>0</td>\n      <td>0</td>\n      <td>0</td>\n      <td>1</td>\n      <td>1</td>\n      <td>0</td>\n      <td>0</td>\n    </tr>\n    <tr>\n      <th>2</th>\n      <td>1</td>\n      <td>46.0</td>\n      <td>69.10</td>\n      <td>3255.35</td>\n      <td>1</td>\n      <td>0</td>\n      <td>1</td>\n      <td>0</td>\n      <td>0</td>\n      <td>1</td>\n      <td>...</td>\n      <td>0</td>\n      <td>1</td>\n      <td>0</td>\n      <td>0</td>\n      <td>0</td>\n      <td>0</td>\n      <td>1</td>\n      <td>0</td>\n      <td>0</td>\n      <td>1</td>\n    </tr>\n    <tr>\n      <th>3</th>\n      <td>0</td>\n      <td>38.0</td>\n      <td>101.15</td>\n      <td>3956.70</td>\n      <td>0</td>\n      <td>1</td>\n      <td>0</td>\n      <td>0</td>\n      <td>1</td>\n      <td>1</td>\n      <td>...</td>\n      <td>0</td>\n      <td>1</td>\n      <td>0</td>\n      <td>0</td>\n      <td>0</td>\n      <td>0</td>\n      <td>1</td>\n      <td>0</td>\n      <td>0</td>\n      <td>1</td>\n    </tr>\n    <tr>\n      <th>4</th>\n      <td>1</td>\n      <td>32.0</td>\n      <td>85.95</td>\n      <td>2628.60</td>\n      <td>1</td>\n      <td>0</td>\n      <td>0</td>\n      <td>0</td>\n      <td>1</td>\n      <td>1</td>\n      <td>...</td>\n      <td>0</td>\n      <td>1</td>\n      <td>0</td>\n      <td>0</td>\n      <td>1</td>\n      <td>0</td>\n      <td>0</td>\n      <td>1</td>\n      <td>0</td>\n      <td>0</td>\n    </tr>\n    <tr>\n      <th>...</th>\n      <td>...</td>\n      <td>...</td>\n      <td>...</td>\n      <td>...</td>\n      <td>...</td>\n      <td>...</td>\n      <td>...</td>\n      <td>...</td>\n      <td>...</td>\n      <td>...</td>\n      <td>...</td>\n      <td>...</td>\n      <td>...</td>\n      <td>...</td>\n      <td>...</td>\n      <td>...</td>\n      <td>...</td>\n      <td>...</td>\n      <td>...</td>\n      <td>...</td>\n      <td>...</td>\n    </tr>\n    <tr>\n      <th>2826</th>\n      <td>0</td>\n      <td>47.0</td>\n      <td>100.75</td>\n      <td>4669.20</td>\n      <td>1</td>\n      <td>0</td>\n      <td>0</td>\n      <td>0</td>\n      <td>1</td>\n      <td>0</td>\n      <td>...</td>\n      <td>0</td>\n      <td>0</td>\n      <td>0</td>\n      <td>1</td>\n      <td>1</td>\n      <td>0</td>\n      <td>0</td>\n      <td>1</td>\n      <td>0</td>\n      <td>0</td>\n    </tr>\n    <tr>\n      <th>2827</th>\n      <td>1</td>\n      <td>47.0</td>\n      <td>67.45</td>\n      <td>3252.00</td>\n      <td>1</td>\n      <td>0</td>\n      <td>1</td>\n      <td>0</td>\n      <td>0</td>\n      <td>0</td>\n      <td>...</td>\n      <td>0</td>\n      <td>1</td>\n      <td>0</td>\n      <td>0</td>\n      <td>0</td>\n      <td>0</td>\n      <td>1</td>\n      <td>1</td>\n      <td>0</td>\n      <td>0</td>\n    </tr>\n    <tr>\n      <th>2828</th>\n      <td>0</td>\n      <td>47.0</td>\n      <td>40.30</td>\n      <td>1794.80</td>\n      <td>0</td>\n      <td>1</td>\n      <td>1</td>\n      <td>0</td>\n      <td>0</td>\n      <td>0</td>\n      <td>...</td>\n      <td>0</td>\n      <td>0</td>\n      <td>1</td>\n      <td>0</td>\n      <td>0</td>\n      <td>0</td>\n      <td>1</td>\n      <td>1</td>\n      <td>0</td>\n      <td>0</td>\n    </tr>\n    <tr>\n      <th>2829</th>\n      <td>0</td>\n      <td>71.0</td>\n      <td>47.60</td>\n      <td>3377.80</td>\n      <td>1</td>\n      <td>0</td>\n      <td>1</td>\n      <td>0</td>\n      <td>0</td>\n      <td>0</td>\n      <td>...</td>\n      <td>1</td>\n      <td>0</td>\n      <td>0</td>\n      <td>0</td>\n      <td>0</td>\n      <td>0</td>\n      <td>1</td>\n      <td>1</td>\n      <td>0</td>\n      <td>0</td>\n    </tr>\n    <tr>\n      <th>2830</th>\n      <td>0</td>\n      <td>16.0</td>\n      <td>64.46</td>\n      <td>1024.00</td>\n      <td>0</td>\n      <td>1</td>\n      <td>0</td>\n      <td>0</td>\n      <td>1</td>\n      <td>0</td>\n      <td>...</td>\n      <td>0</td>\n      <td>0</td>\n      <td>0</td>\n      <td>1</td>\n      <td>0</td>\n      <td>0</td>\n      <td>1</td>\n      <td>1</td>\n      <td>0</td>\n      <td>0</td>\n    </tr>\n  </tbody>\n</table>\n<p>2831 rows × 45 columns</p>\n</div>"
     },
     "execution_count": 12,
     "metadata": {},
     "output_type": "execute_result"
    }
   ],
   "source": [
    "# # store for train models..\n",
    "# encoded_data.to_csv(\"preprocessed_data3.csv\",index=False)\n",
    "\n",
    "encoded_test_data.to_csv(\"preprocessed_test.csv\",index=False)\n",
    "encoded_test_data"
   ],
   "metadata": {
    "collapsed": false,
    "pycharm": {
     "name": "#%%\n"
    }
   }
  },
  {
   "cell_type": "code",
   "execution_count": 13,
   "outputs": [
    {
     "data": {
      "text/plain": "Index(['SeniorCitizen', 'tenure', 'MonthlyCharges', 'TotalCharges', 'Churn',\n       'Dependents_No', 'Dependents_Yes', 'StreamingTV_No',\n       'StreamingTV_No internet service', 'StreamingTV_Yes',\n       'OnlineSecurity_No', 'OnlineSecurity_No internet service',\n       'OnlineSecurity_Yes', 'MultipleLines_No',\n       'MultipleLines_No phone service', 'MultipleLines_Yes',\n       'OnlineBackup_No', 'OnlineBackup_No internet service',\n       'OnlineBackup_Yes', 'PaperlessBilling_No', 'PaperlessBilling_Yes',\n       'Partner_No', 'Partner_Yes', 'TechSupport_No',\n       'TechSupport_No internet service', 'TechSupport_Yes',\n       'Contract_Month-to-month', 'Contract_One year', 'Contract_Two year',\n       'gender_Female', 'gender_Male', 'PhoneService_No', 'PhoneService_Yes',\n       'InternetService_DSL', 'InternetService_Fiber optic',\n       'InternetService_No', 'PaymentMethod_Bank transfer (automatic)',\n       'PaymentMethod_Credit card (automatic)',\n       'PaymentMethod_Electronic check', 'PaymentMethod_Mailed check',\n       'DeviceProtection_No', 'DeviceProtection_No internet service',\n       'DeviceProtection_Yes', 'StreamingMovies_No',\n       'StreamingMovies_No internet service', 'StreamingMovies_Yes'],\n      dtype='object')"
     },
     "execution_count": 13,
     "metadata": {},
     "output_type": "execute_result"
    }
   ],
   "source": [
    "encoded_data.columns"
   ],
   "metadata": {
    "collapsed": false,
    "pycharm": {
     "name": "#%%\n"
    }
   }
  },
  {
   "cell_type": "code",
   "execution_count": 14,
   "outputs": [
    {
     "data": {
      "text/plain": "Index(['SeniorCitizen', 'tenure', 'MonthlyCharges', 'TotalCharges',\n       'Dependents_No', 'Dependents_Yes', 'StreamingTV_No',\n       'StreamingTV_No internet service', 'StreamingTV_Yes',\n       'OnlineSecurity_No', 'OnlineSecurity_No internet service',\n       'OnlineSecurity_Yes', 'MultipleLines_No',\n       'MultipleLines_No phone service', 'MultipleLines_Yes',\n       'OnlineBackup_No', 'OnlineBackup_No internet service',\n       'OnlineBackup_Yes', 'PaperlessBilling_No', 'PaperlessBilling_Yes',\n       'Partner_No', 'Partner_Yes', 'TechSupport_No',\n       'TechSupport_No internet service', 'TechSupport_Yes',\n       'Contract_Month-to-month', 'Contract_One year', 'Contract_Two year',\n       'gender_Female', 'gender_Male', 'PhoneService_No', 'PhoneService_Yes',\n       'InternetService_DSL', 'InternetService_Fiber optic',\n       'InternetService_No', 'PaymentMethod_Bank transfer (automatic)',\n       'PaymentMethod_Credit card (automatic)',\n       'PaymentMethod_Electronic check', 'PaymentMethod_Mailed check',\n       'DeviceProtection_No', 'DeviceProtection_No internet service',\n       'DeviceProtection_Yes', 'StreamingMovies_No',\n       'StreamingMovies_No internet service', 'StreamingMovies_Yes'],\n      dtype='object')"
     },
     "execution_count": 14,
     "metadata": {},
     "output_type": "execute_result"
    }
   ],
   "source": [
    "encoded_test_data.columns\n"
   ],
   "metadata": {
    "collapsed": false,
    "pycharm": {
     "name": "#%%\n"
    }
   }
  }
 ],
 "metadata": {
  "kernelspec": {
   "display_name": "Python 3",
   "language": "python",
   "name": "python3"
  },
  "language_info": {
   "codemirror_mode": {
    "name": "ipython",
    "version": 2
   },
   "file_extension": ".py",
   "mimetype": "text/x-python",
   "name": "python",
   "nbconvert_exporter": "python",
   "pygments_lexer": "ipython2",
   "version": "2.7.6"
  }
 },
 "nbformat": 4,
 "nbformat_minor": 0
}